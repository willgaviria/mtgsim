{
 "cells": [
  {
   "cell_type": "markdown",
   "id": "56b4e9ce",
   "metadata": {},
   "source": [
    "# 1. Simulations for 60 card deck"
   ]
  },
  {
   "cell_type": "code",
   "execution_count": 1,
   "id": "87625cec",
   "metadata": {},
   "outputs": [
    {
     "name": "stdout",
     "output_type": "stream",
     "text": [
      "Turn 5 stats:\n",
      "Avg. mana_on_board: 4.30\n",
      "Avg. fetch_prob: 0.00\n",
      "Avg. basic_prob: 40.00\n",
      "Avg. spell_prob: 60.00\n",
      "Avg. life_burn: 0.00\n",
      "Avg. missed_land_drops: 0.70\n",
      "\n",
      "Turn 10 stats:\n",
      "Avg. mana_on_board: 6.78\n",
      "Avg. fetch_prob: 0.00\n",
      "Avg. basic_prob: 39.99\n",
      "Avg. spell_prob: 60.01\n",
      "Avg. life_burn: 0.00\n",
      "Avg. missed_land_drops: 3.22\n",
      "\n"
     ]
    }
   ],
   "source": [
    "from mtgsim.simulate import simulate\n",
    "\n",
    "simulate(\n",
    "    n_games=200_000,\n",
    "    spells=36,\n",
    "    basic_lands=24,\n",
    "    turns_to_record=[5,10]\n",
    ")"
   ]
  },
  {
   "cell_type": "code",
   "execution_count": 2,
   "id": "11c91b8b",
   "metadata": {
    "scrolled": false
   },
   "outputs": [
    {
     "name": "stdout",
     "output_type": "stream",
     "text": [
      "Turn 5 stats:\n",
      "Avg. mana_on_board: 4.28\n",
      "Avg. fetch_prob: 13.72\n",
      "Avg. basic_prob: 24.25\n",
      "Avg. spell_prob: 62.04\n",
      "Avg. life_burn: 1.62\n",
      "Avg. missed_land_drops: 0.72\n",
      "\n",
      "Turn 10 stats:\n",
      "Avg. mana_on_board: 6.61\n",
      "Avg. fetch_prob: 13.91\n",
      "Avg. basic_prob: 23.01\n",
      "Avg. spell_prob: 63.08\n",
      "Avg. life_burn: 2.31\n",
      "Avg. missed_land_drops: 3.39\n",
      "\n"
     ]
    }
   ],
   "source": [
    "simulate(\n",
    "    n_games=200_000,\n",
    "    spells=36,\n",
    "    basic_lands=16,\n",
    "    fetch_lands=8,\n",
    "    turns_to_record=[5, 10]\n",
    ")"
   ]
  },
  {
   "cell_type": "markdown",
   "id": "46d3f732",
   "metadata": {},
   "source": [
    "# 2. Simulations for 40 card deck"
   ]
  },
  {
   "cell_type": "code",
   "execution_count": 3,
   "id": "5fbf5a05",
   "metadata": {},
   "outputs": [
    {
     "name": "stdout",
     "output_type": "stream",
     "text": [
      "Turn 5 stats:\n",
      "Avg. mana_on_board: 4.49\n",
      "Avg. fetch_prob: 0.00\n",
      "Avg. basic_prob: 42.51\n",
      "Avg. spell_prob: 57.49\n",
      "Avg. life_burn: 0.00\n",
      "Avg. missed_land_drops: 0.51\n",
      "\n",
      "Turn 10 stats:\n",
      "Avg. mana_on_board: 7.21\n",
      "Avg. fetch_prob: 0.00\n",
      "Avg. basic_prob: 42.50\n",
      "Avg. spell_prob: 57.50\n",
      "Avg. life_burn: 0.00\n",
      "Avg. missed_land_drops: 2.79\n",
      "\n"
     ]
    }
   ],
   "source": [
    "simulate(\n",
    "    n_games=200_000,\n",
    "    spells=23,\n",
    "    basic_lands=17,\n",
    "    turns_to_record=[5,10]\n",
    ")"
   ]
  },
  {
   "cell_type": "code",
   "execution_count": 4,
   "id": "6786486b",
   "metadata": {},
   "outputs": [
    {
     "name": "stdout",
     "output_type": "stream",
     "text": [
      "Turn 5 stats:\n",
      "Avg. mana_on_board: 4.48\n",
      "Avg. fetch_prob: 2.50\n",
      "Avg. basic_prob: 39.42\n",
      "Avg. spell_prob: 58.08\n",
      "Avg. life_burn: 0.30\n",
      "Avg. missed_land_drops: 0.52\n",
      "\n",
      "Turn 10 stats:\n",
      "Avg. mana_on_board: 7.15\n",
      "Avg. fetch_prob: 2.50\n",
      "Avg. basic_prob: 39.11\n",
      "Avg. spell_prob: 58.39\n",
      "Avg. life_burn: 0.42\n",
      "Avg. missed_land_drops: 2.85\n",
      "\n"
     ]
    }
   ],
   "source": [
    "simulate(\n",
    "    n_games=200_000,\n",
    "    spells=23,\n",
    "    basic_lands=16,\n",
    "    fetch_lands=1,\n",
    "    turns_to_record=[5, 10]\n",
    ")"
   ]
  },
  {
   "cell_type": "code",
   "execution_count": null,
   "id": "118bd144",
   "metadata": {},
   "outputs": [],
   "source": []
  }
 ],
 "metadata": {
  "kernelspec": {
   "display_name": "Python 3 (ipykernel)",
   "language": "python",
   "name": "python3"
  },
  "language_info": {
   "codemirror_mode": {
    "name": "ipython",
    "version": 3
   },
   "file_extension": ".py",
   "mimetype": "text/x-python",
   "name": "python",
   "nbconvert_exporter": "python",
   "pygments_lexer": "ipython3",
   "version": "3.9.7"
  }
 },
 "nbformat": 4,
 "nbformat_minor": 5
}
