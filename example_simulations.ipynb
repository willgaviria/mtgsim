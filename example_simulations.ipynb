{
 "cells": [
  {
   "cell_type": "markdown",
   "id": "56b4e9ce",
   "metadata": {},
   "source": [
    "# 1. Simulations for 60 card deck"
   ]
  },
  {
   "cell_type": "code",
   "execution_count": null,
   "id": "87625cec",
   "metadata": {},
   "outputs": [],
   "source": [
    "from mtgsim.simulate import simulate\n",
    "\n",
    "simulate(\n",
    "    n_games=100_000,\n",
    "    spells=36,\n",
    "    basic_lands=24,\n",
    "    turns_to_record=[5,10]\n",
    ")"
   ]
  },
  {
   "cell_type": "code",
   "execution_count": null,
   "id": "11c91b8b",
   "metadata": {
    "scrolled": false
   },
   "outputs": [],
   "source": [
    "%time\n",
    "simulate(\n",
    "    n_games=100_000,\n",
    "    spells=36,\n",
    "    basic_lands=16,\n",
    "    fetch_lands=8,\n",
    "    turns_to_record=[5, 10]\n",
    ")"
   ]
  },
  {
   "cell_type": "code",
   "execution_count": null,
   "id": "a05ae350",
   "metadata": {},
   "outputs": [],
   "source": []
  }
 ],
 "metadata": {
  "kernelspec": {
   "display_name": "Python 3 (ipykernel)",
   "language": "python",
   "name": "python3"
  },
  "language_info": {
   "codemirror_mode": {
    "name": "ipython",
    "version": 3
   },
   "file_extension": ".py",
   "mimetype": "text/x-python",
   "name": "python",
   "nbconvert_exporter": "python",
   "pygments_lexer": "ipython3",
   "version": "3.9.7"
  }
 },
 "nbformat": 4,
 "nbformat_minor": 5
}
